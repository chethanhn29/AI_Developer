{
 "cells": [
  {
   "cell_type": "code",
   "execution_count": null,
   "id": "2a22f8e3",
   "metadata": {},
   "outputs": [],
   "source": [
    "import pandas as pd\n",
    "import pickle\n",
    "\n",
    "# load the test data\n",
    "test_data = pd.read_csv('path/to/test/data.csv')\n",
    "\n",
    "# load the trained model from the pickle file\n",
    "with open('path/to/saved/model.pkl', 'rb') as f:\n",
    "    model = pickle.load(f)\n",
    "\n",
    "# preprocess the test data (use the same preprocessing steps used for training)\n",
    "X_test = test_data.drop('Target', axis=1)\n",
    "scaler = StandardScaler()\n",
    "X_test = scaler.fit_transform(X_test)\n",
    "\n",
    "# make predictions on the test data\n",
    "y_pred = model.predict(X_test)\n",
    "\n",
    "# evaluate the performance of the model on the test data\n",
    "accuracy = accuracy_score(test_data['Target'], y_pred)\n",
    "precision = precision_score(test_data['Target'], y_pred)\n",
    "recall = recall_score(test_data['Target'], y_pred)\n",
    "\n",
    "print(f'Test Accuracy: {accuracy:.3f}')\n",
    "print(f'Test Precision: {precision:.3f}')\n",
    "print(f'Test Recall: {recall:.3f}')\n"
   ]
  }
 ],
 "metadata": {
  "kernelspec": {
   "display_name": "Python 3 (ipykernel)",
   "language": "python",
   "name": "python3"
  },
  "language_info": {
   "codemirror_mode": {
    "name": "ipython",
    "version": 3
   },
   "file_extension": ".py",
   "mimetype": "text/x-python",
   "name": "python",
   "nbconvert_exporter": "python",
   "pygments_lexer": "ipython3",
   "version": "3.9.13"
  }
 },
 "nbformat": 4,
 "nbformat_minor": 5
}
